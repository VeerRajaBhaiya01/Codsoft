{
  "nbformat": 4,
  "nbformat_minor": 0,
  "metadata": {
    "colab": {
      "provenance": [],
      "mount_file_id": "1MmSaiBvtkLadIMK64JlmBDWxEoPs1Rdq",
      "authorship_tag": "ABX9TyNHLibkeW08IM0up2ZK56Ss",
      "include_colab_link": true
    },
    "kernelspec": {
      "name": "python3",
      "display_name": "Python 3"
    },
    "language_info": {
      "name": "python"
    }
  },
  "cells": [
    {
      "cell_type": "markdown",
      "metadata": {
        "id": "view-in-github",
        "colab_type": "text"
      },
      "source": [
        "<a href=\"https://colab.research.google.com/github/VeerRajaBhaiya01/Codsoft/blob/main/oops_Project_1.ipynb\" target=\"_parent\"><img src=\"https://colab.research.google.com/assets/colab-badge.svg\" alt=\"Open In Colab\"/></a>"
      ]
    },
    {
      "cell_type": "code",
      "execution_count": 4,
      "metadata": {
        "colab": {
          "base_uri": "https://localhost:8080/"
        },
        "id": "vBBZUJ4uRWao",
        "outputId": "62953a21-dcc7-406e-9817-7863bb0e8b28"
      },
      "outputs": [
        {
          "output_type": "stream",
          "name": "stdout",
          "text": [
            "Collecting nlpcloud\n",
            "  Downloading nlpcloud-1.1.47-py3-none-any.whl.metadata (1.1 kB)\n",
            "Requirement already satisfied: requests in /usr/local/lib/python3.11/dist-packages (from nlpcloud) (2.32.3)\n",
            "Requirement already satisfied: charset-normalizer<4,>=2 in /usr/local/lib/python3.11/dist-packages (from requests->nlpcloud) (3.4.1)\n",
            "Requirement already satisfied: idna<4,>=2.5 in /usr/local/lib/python3.11/dist-packages (from requests->nlpcloud) (3.10)\n",
            "Requirement already satisfied: urllib3<3,>=1.21.1 in /usr/local/lib/python3.11/dist-packages (from requests->nlpcloud) (2.3.0)\n",
            "Requirement already satisfied: certifi>=2017.4.17 in /usr/local/lib/python3.11/dist-packages (from requests->nlpcloud) (2025.1.31)\n",
            "Downloading nlpcloud-1.1.47-py3-none-any.whl (3.9 kB)\n",
            "Installing collected packages: nlpcloud\n",
            "Successfully installed nlpcloud-1.1.47\n"
          ]
        }
      ],
      "source": [
        "!pip install nlpcloud"
      ]
    },
    {
      "cell_type": "code",
      "source": [
        "import nlpcloud\n",
        "\n",
        "class NLPApp:\n",
        "    def __init__(self):\n",
        "        self.__database = {}\n",
        "        self.__first_menu()\n",
        "\n",
        "    def __first_menu(self):\n",
        "        first_input = input(\"\"\"\n",
        "        Hi! How would you like to proceed?\n",
        "        1. Not a member? Register\n",
        "        2. Already a member? Login\n",
        "        3. Galti se aa gaye? Exit\n",
        "        \"\"\")\n",
        "\n",
        "        if first_input == '1':\n",
        "            self.__register()\n",
        "        elif first_input == '2':\n",
        "            self.__login()\n",
        "        elif first_input == '3':\n",
        "            exit()\n",
        "        else:\n",
        "            print(\"Invalid input, please enter 1, 2, or 3.\")\n",
        "            self.__first_menu()  # Retry if input is invalid\n",
        "\n",
        "    def __second_menu(self):\n",
        "        second_input = input(\"\"\"\n",
        "        Hi! How would you like to proceed?\n",
        "        1. NER\n",
        "        2. Language Detection\n",
        "        3. Sentiment\n",
        "        4. Logout\n",
        "        \"\"\")\n",
        "\n",
        "        if second_input == '1':\n",
        "            self.__ner()\n",
        "        elif second_input == '2':\n",
        "            self.__language_detection()\n",
        "        elif second_input=='3':\n",
        "          self.__sentiment_anal()\n",
        "        elif second_input == '4':\n",
        "            print(\"Logging out...\")\n",
        "            self.__first_menu()  # Fixed incorrect function call\n",
        "        else:\n",
        "            print(\"Invalid input, please enter 1, 2, 3, or 4.\")\n",
        "            exit()  # Retry if input is invalid\n",
        "\n",
        "    def __register(self):\n",
        "        name = input('Enter Name: ')\n",
        "        email = input('Enter Email: ')\n",
        "        password = input('Enter Password: ')\n",
        "\n",
        "        if email in self.__database:\n",
        "            print('Email already exists. Try logging in.')\n",
        "            self.__first_menu()\n",
        "        else:\n",
        "            self.__database[email] = [name, password]\n",
        "            print(\"Registration successful!\")\n",
        "            print(self.__database)\n",
        "            self.__first_menu()\n",
        "\n",
        "    def __login(self):\n",
        "        email = input('Enter Email: ')\n",
        "        password = input('Enter Password: ')\n",
        "\n",
        "        if email in self.__database:\n",
        "            if self.__database[email][1] == password:\n",
        "                print(\"Login successful!\")\n",
        "                self.__second_menu()\n",
        "            else:\n",
        "                print(\"Wrong password. Try again.\")\n",
        "                self.__login()\n",
        "        else:\n",
        "            print(\"This email is not registered. Please register first.\")\n",
        "            self.__first_menu()\n",
        "\n",
        "    def __sentiment_anal(self):\n",
        "        para = input('Enter the Paragraph: ')\n",
        "        # search_term = input('What would you like to search for?: ')\n",
        "\n",
        "        # client = nlpcloud.Client(\"finetuned-gpt-neox-20b\", \"2b58d7fb9af09e617ee525e78c7766b6d8c5bb61\", gpu=True, lang=\"en\")\n",
        "        # response = client.entities(para, searched_entity=search_term)\n",
        "        client = nlpcloud.Client(\"distilbert-base-uncased-emotion\", \"950f2fbcdeabbc7da89de0bd9a4afd0060964f6a\", gpu=False, lang=\"en\")\n",
        "        response = client.sentiment(para)\n",
        "        print(response)\n",
        "        print()\n",
        "\n",
        "        L = []\n",
        "        for i in response['scored_labels']:\n",
        "          L.append(i['score'])\n",
        "        print(L)\n",
        "        print()\n",
        "        index = sorted(list(enumerate(L)),key=lambda x:x[1],reverse=True)[0][0]\n",
        "\n",
        "        print(response['scored_labels'][index]['label'])\n",
        "        self.__second_menu()\n",
        "\n",
        "# if __name__ == \"__main__\":\n",
        "#     NLPApp()\n"
      ],
      "metadata": {
        "id": "ur3NlGlARghx"
      },
      "execution_count": 17,
      "outputs": []
    },
    {
      "cell_type": "code",
      "source": [
        "ob=NLPApp()"
      ],
      "metadata": {
        "colab": {
          "base_uri": "https://localhost:8080/"
        },
        "id": "yux4ujtyXFGT",
        "outputId": "ee934aa4-b82a-4a9c-d842-b9381b7bbf17"
      },
      "execution_count": 19,
      "outputs": [
        {
          "name": "stdout",
          "output_type": "stream",
          "text": [
            "\n",
            "        Hi! How would you like to proceed?\n",
            "        1. Not a member? Register\n",
            "        2. Already a member? Login\n",
            "        3. Galti se aa gaye? Exit\n",
            "        3\n"
          ]
        }
      ]
    }
  ]
}